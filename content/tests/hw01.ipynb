{
 "cells": [
  {
   "cell_type": "markdown",
   "metadata": {
    "editable": false,
    "slideshow": {
     "slide_type": ""
    },
    "tags": []
   },
   "source": [
    "# Philosophy of Testing\n",
    "\n",
    "Testing is the cornerstone of *scalable* software engineering.  If you *ever* plan to contribute to an open source project (*strongly* encouraged if you wanna work in tech), learn to love your tests.  Generally speaking, they come in two categories: **unit tests** and **integration tests**.\n",
    "\n",
    "**Unit tests** compare output of a single function to an expected result, and are *your contract with developers*.  Whenever you write or modify a function, it is *good practice* to provide test cases.  This is *especially* important when your method depends on helper functions which may get updated over time.\n",
    "\n",
    "**Integration tests** compare the output of an entire application/algorithm, and are *your contract with customers*.  An integration test could make sure a web-page is served and rendered correctly, or it could check that a numerical PDE-solver returns a final solution within allowed tolerances.\n",
    "\n",
    "As a codebase becomes more complex, the distinction between unit-tests and integration-tests can be fuzzy, and the \"contracts\" begin to break down (development slows down and user-facing bugs start appearing).  For this reason, it is *good practice* to write code with testing in mind.  Where possible, functions should be [pure](https://en.wikipedia.org/wiki/Pure_function) and [modular](https://en.wikipedia.org/wiki/Modular_programming).\n",
    "\n",
    "# Instructions\n",
    "\n",
    "In this notebook, we have provided **unit tests** for your `classical_gram_schmidt` and `modified_gram_schmidt` implementations.  We have *also* provided a working **implementation** of CGS for reference - ultimately, you should replace our implementation with your own.\n",
    "\n",
    "First, execute the following cell (`<Shift+Enter>`) to run some imports.  Note that your implementation should only depend on `import numpy as np` - the other imports are used for testing."
   ]
  },
  {
   "cell_type": "code",
   "execution_count": 14,
   "metadata": {
    "editable": false,
    "slideshow": {
     "slide_type": ""
    },
    "tags": []
   },
   "outputs": [],
   "source": [
    "%pip install parameterized\n",
    "%pip install ipython_unittest\n",
    "%reload_ext ipython_unittest\n",
    "\n",
    "import numpy as np\n",
    "import sympy as sp\n",
    "import unittest\n",
    "from parameterized import parameterized"
   ]
  },
  {
   "cell_type": "markdown",
   "metadata": {
    "editable": false,
    "slideshow": {
     "slide_type": ""
    },
    "tags": []
   },
   "source": [
    "\n",
    "Next, paste in your implementations of CGS and MGS.  Each function should take a matrix and return a pair of matrices (Q, R)."
   ]
  },
  {
   "cell_type": "code",
   "execution_count": 4,
   "metadata": {
    "editable": true,
    "slideshow": {
     "slide_type": ""
    },
    "tags": []
   },
   "outputs": [],
   "source": [
    "import numpy as np\n",
    "\n",
    "def classical_gram_schmidt(A: np.ndarray):\n",
    "    \"\"\"Returns the QR decomposition of A using the classical gram-schmidt algorithm.\n",
    "\n",
    "    Arguments:\n",
    "        A (np.ndarray): A matrix whose columns are linearly independent.\n",
    "    Returns:\n",
    "        (Q, R): The QR decomposition of A.\n",
    "    \"\"\"\n",
    "    A = np.asanyarray(A, dtype=np.float64)\n",
    "    m, n = A.shape\n",
    "    assert m >= n\n",
    "\n",
    "    Q = np.zeros_like(A)\n",
    "    R = np.zeros((n, n), dtype=A.dtype)\n",
    "    for j in range(n):\n",
    "        Q[:, j] = A[:, j]\n",
    "        for k in range(j):\n",
    "            R[k, j] = Q[:, k] @ A[:, j]\n",
    "            Q[:, j] -= R[k, j] * Q[:, k]\n",
    "        R[j, j] = np.linalg.norm(Q[:, j], ord=2)\n",
    "        Q[:, j] /= R[j, j]\n",
    "    return Q, R\n",
    "\n",
    "def modified_gram_schmidt(A: np.ndarray) -> tuple[np.ndarray, np.ndarray]:\n",
    "    \"\"\"Returns the QR decomposition of A using the modified gram-schmidt algorithm.\n",
    "\n",
    "    Arguments:\n",
    "        A (np.ndarray): A matrix whose columns are linearly independent.\n",
    "    Returns:\n",
    "        (Q, R): The QR decomposition of A.\n",
    "    \"\"\"\n",
    "    # Paste your implementation here!"
   ]
  },
  {
   "cell_type": "markdown",
   "metadata": {
    "editable": false,
    "slideshow": {
     "slide_type": ""
    },
    "tags": []
   },
   "source": [
    "This final cell contains the promised **unit tests**.  We're using [sympy](https://www.sympy.org/) to compute *exact* QR-decompositions (symbolically), and evaluating these as `float64`.  Sympy and other [CAS](https://en.wikipedia.org/wiki/Computer_algebra_system) frameworks are *great* for solving things that you'd typically do on pen-and-paper, but they don't scale well to larger systems.\n",
    "\n",
    "Notice that we're checking $Q$ for *relative error* (`rtol`), and $R$ for *absolute error* (`atol`).  You can read more about tolerances in the [np.allclose documentation](https://numpy.org/doc/stable/reference/generated/numpy.allclose.html#numpy.allclose)."
   ]
  },
  {
   "cell_type": "code",
   "execution_count": 13,
   "metadata": {
    "editable": true,
    "slideshow": {
     "slide_type": ""
    },
    "tags": []
   },
   "outputs": [],
   "source": [
    "%%unittest_main\n",
    "\n",
    "class HW01_Tests(unittest.TestCase):\n",
    "\n",
    "    @staticmethod\n",
    "    def _qr_exact(A, dtype=np.float64):\n",
    "        # Rather than hard-coding matrices with 16-digits of\n",
    "        # precision, use Sympy to compute an exact *symbolic*\n",
    "        # solution to QR(A).\n",
    "        Q, R = sp.Matrix(A).QRdecomposition()\n",
    "        # Truncate the result to the specified dtype.\n",
    "        return (np.array(Q, dtype), np.array(R, dtype))\n",
    "\n",
    "\n",
    "    @parameterized.expand([\n",
    "        # CGS solves this quite well.\n",
    "        ([[1, 1], [1, 0]], ),\n",
    "        # But struggles here....\n",
    "        ([[1000, 1001], [1000, 999]], 3e-13, 1e-9),\n",
    "        # Make sure to handle m>n!\n",
    "        ([[1, 0], [0, 1], [1, 1]], ),\n",
    "    ])\n",
    "    def test_classical(self, A, rtol=1e-15, atol=1e-15):\n",
    "        Qexpect, Rexpect = self._qr_exact(A)\n",
    "        Qobserved, Robserved = classical_gram_schmidt(\n",
    "            np.asarray(A, dtype=np.float64))\n",
    "        \n",
    "        np.testing.assert_allclose(Qexpect, Qobserved, rtol=rtol, err_msg=\"Mismatched Q.\")\n",
    "        np.testing.assert_allclose(Rexpect, Robserved, atol=atol, err_msg=\"Mismatched R.\")\n",
    "\n",
    "        np.testing.assert_allclose(\n",
    "            np.eye(Qobserved.shape[1]), Qobserved.T @ Qobserved,\n",
    "            atol=atol, err_msg=\"Q is not orthonormal.\")\n",
    "\n",
    "        np.testing.assert_allclose(\n",
    "            np.triu(Robserved), Robserved,\n",
    "            err_msg=\"R is not upper triangular.\")\n",
    "\n",
    "\n",
    "    @parameterized.expand([\n",
    "        # MGS also handles this.\n",
    "        ([[1, 1], [1, 0]], ),\n",
    "        # And does much better here.\n",
    "        ([[1000, 1001], [1000, 999]], 3e-13, 3e-13),\n",
    "        # Make sure to handle m>n!\n",
    "        ([[1, 0], [0, 1], [1, 1]], ),\n",
    "    ])\n",
    "    def test_modified(self, A, rtol=1e-15, atol=1e-15):\n",
    "        Qexpect, Rexpect = self._qr_exact(A)\n",
    "        Qobserved, Robserved = modified_gram_schmidt(\n",
    "            np.asarray(A, dtype=np.float64))\n",
    "        \n",
    "        np.testing.assert_allclose(Qexpect, Qobserved, rtol=rtol, err_msg=\"Mismatched Q.\")\n",
    "        np.testing.assert_allclose(Rexpect, Robserved, atol=atol, err_msg=\"Mismatched R.\")\n",
    "\n",
    "        np.testing.assert_allclose(\n",
    "            np.eye(Qobserved.shape[1]), Qobserved.T @ Qobserved,\n",
    "            atol=atol, err_msg=\"Q is not orthonormal.\")\n",
    "\n",
    "        np.testing.assert_allclose(\n",
    "            np.triu(Robserved), Robserved,\n",
    "            err_msg=\"R is not upper triangular.\")\n"
   ]
  },
  {
   "cell_type": "code",
   "execution_count": null,
   "metadata": {},
   "outputs": [],
   "source": []
  }
 ],
 "metadata": {
  "kernelspec": {
   "display_name": "Python 3 (ipykernel)",
   "language": "python",
   "name": "python3"
  },
  "language_info": {
   "codemirror_mode": {
    "name": "ipython",
    "version": 3
   },
   "file_extension": ".py",
   "mimetype": "text/x-python",
   "name": "python",
   "nbconvert_exporter": "python",
   "pygments_lexer": "ipython3",
   "version": "3.11.4"
  }
 },
 "nbformat": 4,
 "nbformat_minor": 4
}
