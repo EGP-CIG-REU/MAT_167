{
 "cells": [
  {
   "cell_type": "markdown",
   "metadata": {
    "editable": false,
    "slideshow": {
     "slide_type": ""
    },
    "tags": []
   },
   "source": [
    "# Philosophy of Testing\n",
    "\n",
    "**Testing** is the cornerstone of *scalable* software engineering.  If you **ever** want to contribute to an open source project (*strongly* encouraged if you wanna work in tech), learn to love your tests.  Generally speaking, there are two categories of tests: **unit tests** and **integration tests**.\n",
    "\n",
    "**Unit tests** compare output of a single function to an expected result, and are *your contract with developers*.  Whenever you write or modify a function, it is *good practice* to provide test cases.  This is *especially* important when your method depends on helper functions which may get updated over time.\n",
    "\n",
    "**Integration tests** compare the output of an entire application/algorithm, and are *your contract with customers*.  An integration test could make sure a web-page is served and rendered correctly, or it could check that a numerical PDE-solver returns a solution within theoretical limits for a problem with analytic solutions.\n",
    "\n",
    "As a codebase becomes more complex, the distinction between unit-tests and integration-tests can be fuzzy... For this reason, it is *good practice* to write code with testing in mind.  This is more art than science, and comes with practice and experience.\n",
    "\n",
    "# Instructions\n",
    "\n",
    "In this notebook, we have provided **unit tests** for your `classical_gram_schmidt` and `modified_gram_schmidt` implementations.  We have *also* provided a working **implementation** of CGS for reference - ultimately, you should replace our implementation with your own.\n",
    "\n",
    "First, paste in your implementations of CGS and MGS.  Each function should take a matrix and return a pair of matrices (Q, R)."
   ]
  },
  {
   "cell_type": "code",
   "execution_count": 127,
   "metadata": {
    "editable": true,
    "slideshow": {
     "slide_type": ""
    },
    "tags": []
   },
   "outputs": [],
   "source": [
    "import numpy as np\n",
    "\n",
    "def classical_gram_schmidt(A) -> (np.ndarray, np.ndarray):\n",
    "    \"\"\"Returns the QR decomposition of A using the classical gram-schmidt algorithm.\n",
    "\n",
    "    Arguments:\n",
    "        A (Matrix): A matrix whose columns are linearly independent.\n",
    "    Returns:\n",
    "        (Q, R): The QR decomposition of A.\n",
    "    \"\"\"\n",
    "    # This is *my* implementation, provided for reference.\n",
    "    # You should replace it with your own, but pay attention\n",
    "    # to the input/output signatures.\n",
    "    A = np.asanyarray(A, dtype=np.float64)\n",
    "    m, n = A.shape\n",
    "    assert m >= n\n",
    "\n",
    "    Q = np.zeros_like(A)\n",
    "    for j in range(n):\n",
    "        qj = A[:, j].copy()\n",
    "        for k in range(j):\n",
    "            qj -= (Q[:, k] @ A[:, j]) * Q[:, k]\n",
    "        Q[:, j] = qj / np.linalg.norm(qj)\n",
    "    R = Q.T @ A  # This trick *probably* won't cut it for MGS...\n",
    "    return Q, R\n",
    "\n",
    "def modified_gram_schmidt(A: np.ndarray) -> (np.ndarray, np.ndarray):\n",
    "    \"\"\"Returns the QR decomposition of A using the modified gram-schmidt algorithm.\n",
    "\n",
    "    Arguments:\n",
    "        A (np.ndarray): A matrix whose columns are linearly independent.\n",
    "    Returns:\n",
    "        (Q, R): The QR decomposition of A.\n",
    "    \"\"\"\n",
    "    # Paste your implementation here!"
   ]
  },
  {
   "cell_type": "markdown",
   "metadata": {
    "editable": false,
    "slideshow": {
     "slide_type": ""
    },
    "tags": []
   },
   "source": [
    "Next, run the following cell to import some testing libraries."
   ]
  },
  {
   "cell_type": "code",
   "execution_count": 128,
   "metadata": {
    "editable": false,
    "slideshow": {
     "slide_type": ""
    },
    "tags": []
   },
   "outputs": [],
   "source": [
    "%pip install parameterized\n",
    "%pip install ipython_unittest\n",
    "%reload_ext ipython_unittest\n",
    "\n",
    "import unittest\n",
    "import sympy as sp\n",
    "import numpy as np\n",
    "from parameterized import parameterized"
   ]
  },
  {
   "cell_type": "markdown",
   "metadata": {
    "editable": false,
    "slideshow": {
     "slide_type": ""
    },
    "tags": []
   },
   "source": [
    "This final cell contains the promised **unit tests**.  We're using [sympy](https://www.sympy.org/) to compute *exact* QR-decompositions (symbolically), and evaluating these as `float64`.\n",
    "\n",
    "Notice that we're checking $Q$ for *relative error* (rtol), and $R$ for *absolute error* (atol)...  Hint: this means that `R = Q.T @ A` *probably* won't cut it for MGS.\n",
    "\n"
   ]
  },
  {
   "cell_type": "code",
   "execution_count": 1,
   "metadata": {
    "editable": false,
    "slideshow": {
     "slide_type": ""
    },
    "tags": []
   },
   "outputs": [],
   "source": [
    "%%unittest_main\n",
    "\n",
    "class HW01_Tests(unittest.TestCase):\n",
    "\n",
    "    @staticmethod\n",
    "    def _qr_exact(A, dtype=np.float64):\n",
    "        # Exact *symbolic* solution to the QR decomp.\n",
    "        Q, R = sp.Matrix(A).QRdecomposition()\n",
    "        # Numeric solution up to specified dtype.\n",
    "        return (np.array(Q, dtype), np.array(R, dtype))\n",
    "\n",
    "\n",
    "    @parameterized.expand([\n",
    "        # CGS solves this quite well.\n",
    "        ([[1, 1], [1, 0]], ),\n",
    "        # But struggles here....\n",
    "        ([[1000, 1001], [1000, 999]], 3e-13, 1e-9),\n",
    "        # Make sure to handle m>n!\n",
    "        ([[1, 0], [0, 1], [1, 1]], ),\n",
    "    ])\n",
    "    def test_classical(self, A, qrtol=1e-15, ratol=1e-15):\n",
    "        Qexpect, Rexpect = self._qr_exact(A)\n",
    "        Qobserved, Robserved = classical_gram_schmidt(A)\n",
    "        \n",
    "        np.testing.assert_allclose(Qexpect, Qobserved, rtol=qrtol)\n",
    "        np.testing.assert_allclose(Rexpect, Robserved, atol=ratol)\n",
    "\n",
    "\n",
    "    @parameterized.expand([\n",
    "        # MGS also handles this.\n",
    "        ([[1, 1], [1, 0]], ),\n",
    "        # And does much better here.\n",
    "        ([[1000, 1001], [1000, 999]], 3e-13),\n",
    "        # Make sure to handle m>n!\n",
    "        ([[1, 0], [0, 1], [1, 1]], ),\n",
    "    ])\n",
    "    def test_modified(self, A, qrtol=1e-15, ratol=1e-15):\n",
    "        Qexpect, Rexpect = self._qr_exact(A)\n",
    "        Qobserved, Robserved = modified_gram_schmidt(A)\n",
    "        \n",
    "        np.testing.assert_allclose(Qexpect, Qobserved, rtol=qrtol)\n",
    "        np.testing.assert_allclose(Rexpect, Robserved, atol=ratol)\n"
   ]
  }
 ],
 "metadata": {
  "kernelspec": {
   "display_name": "Python 3 (ipykernel)",
   "language": "python",
   "name": "python3"
  },
  "language_info": {
   "codemirror_mode": {
    "name": "ipython",
    "version": 3
   },
   "file_extension": ".py",
   "mimetype": "text/x-python",
   "name": "python",
   "nbconvert_exporter": "python",
   "pygments_lexer": "ipython3",
   "version": "3.11.4"
  }
 },
 "nbformat": 4,
 "nbformat_minor": 4
}
