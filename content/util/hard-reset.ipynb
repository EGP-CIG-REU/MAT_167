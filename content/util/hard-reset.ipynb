{
 "cells": [
  {
   "cell_type": "markdown",
   "metadata": {
    "editable": false,
    "slideshow": {
     "slide_type": ""
    },
    "tags": []
   },
   "source": [
    "# Hard Reset\n",
    "\n",
    "Running the button will delete **all** local changes, reverting all notebooks to their original state.  **Make sure to backup** (ie, save to disk) any important work or changes!\n",
    "\n",
    "**Instructions**\n",
    "* Run the code cell below.\n",
    "* Click the button.\n",
    "* Accept the confirmation warning.\n",
    "* Refresh the page with `<shift+R>`.\n",
    "\n",
    "You can do this manually by navigating through `Developer tools → Application tab → IndexedDB → JupyterLite Storage → Delete`."
   ]
  },
  {
   "cell_type": "code",
   "execution_count": null,
   "metadata": {
    "editable": false,
    "slideshow": {
     "slide_type": ""
    },
    "tags": []
   },
   "outputs": [],
   "source": [
    "%%html\n",
    "\n",
    "<!-- Source: https://github.com/jupyterlite/jupyterlite/issues/407 -->\n",
    "<button type=\"button\" id=\"button_for_indexeddb\">Clear JupyterLite local storage</button>\n",
    "<script>\n",
    "window.button_for_indexeddb.onclick = function(e) {\n",
    "                \n",
    "    if (!window.confirm(\"Are you sure?\")) {\n",
    "        return;\n",
    "    }\n",
    "\n",
    "    window.indexedDB.open(\"UCD MAT167\").onsuccess = function(e) {\n",
    "        // There are also other tables that I'm not clearing:\n",
    "        // \"counters\", \"settings\", \"local-storage-detect-blob-support\"\n",
    "        let tables = [\"checkpoints\", \"files\"];\n",
    "\n",
    "        let db = e.target.result;\n",
    "        let t = db.transaction(tables, \"readwrite\");\n",
    "\n",
    "        function clearTable(tablename) {\n",
    "            let st = t.objectStore(tablename);\n",
    "            st.count().onsuccess = function(e) {\n",
    "                console.log(\"Deleting \" + e.target.result + \" entries from \" + tablename + \"...\");\n",
    "                st.clear().onsuccess = function(e) {\n",
    "                    console.log(tablename + \" is cleared!\");\n",
    "                }\n",
    "            }\n",
    "        }\n",
    "\n",
    "        for (let tablename of tables) {\n",
    "            clearTable(tablename);\n",
    "        }\n",
    "    }\n",
    "};\n",
    "</script>"
   ]
  }
 ],
 "metadata": {
  "kernelspec": {
   "display_name": "Python 3 (ipykernel)",
   "language": "python",
   "name": "python3"
  },
  "language_info": {
   "codemirror_mode": {
    "name": "ipython",
    "version": 3
   },
   "file_extension": ".py",
   "mimetype": "text/x-python",
   "name": "python",
   "nbconvert_exporter": "python",
   "pygments_lexer": "ipython3",
   "version": "3.11.4"
  }
 },
 "nbformat": 4,
 "nbformat_minor": 4
}
