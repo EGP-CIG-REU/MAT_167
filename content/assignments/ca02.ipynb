{
 "cells": [
  {
   "cell_type": "markdown",
   "metadata": {
    "editable": false,
    "slideshow": {
     "slide_type": ""
    },
    "tags": []
   },
   "source": [
    "## Part 00 : Preliminary Instructions\n",
    "\n",
    "Reading, files you will need to download from CANVAS, and the *Back Substitution* algorithm you need to implement.\n",
    "\n",
    "<br/><b>(a)</b>\n",
    "First of all, you should review\n",
    "<a href=\"https://egp-cig-reu.github.io/MAT_167/files/lecture_notes/saito/NS_LECTURE_06.pdf\">NS_LECTURE_06.pdf</a> (especially page 07),\n",
    "<a href=\"https://egp-cig-reu.github.io/MAT_167/files/lecture_notes/saito/NS_LECTURE_07.pdf\">NS_LECTURE_07.pdf</a> (especially pages 01 & 02), and\n",
    "<a href=\"https://egp-cig-reu.github.io/MAT_167/files/lecture_notes/saito/NS_LECTURE_10.pdf\">NS_LECTURE_10.pdf</a> (especially pages 07 & 08) all of which can be found here:\n",
    "\n",
    "<center>\n",
    "<a href=\"https://canvas.ucdavis.edu/courses/883423/files/folder/LECTURE_NOTES/2022_WQ_NS_LECTURE_NOTES\">\n",
    "2022 WQ NS LECTURE NOTES.\n",
    "</a>\n",
    "</center>\n",
    "\n",
    "<br/>\n",
    "<p>When writing your analysis in your report I want you to include reference to facts/information from these three Lecture Notes.\n",
    "In addition, <a href=\"https://egp-cig-reu.github.io/MAT_167/files/lecture_notes/saito/NS_LECTURE_09.pdf\">NS_LECTURE_09.pdf</a> and <a href=\"https://egp-cig-reu.github.io/MAT_167/files/lecture_notes/saito/NS_LECTURE_11.pdf\">NS_LECTURE_11.pdf</a> contain discussions of the stability of the Classical Gram-Schmidt, Modified Gram-Schmidt and Householder algorithms for computing the QR factorization of a matrix A. Reading just the parts of these three two lecture notes that pertain to the stability of these three algorithms will enable you to write a more informed analysis of the output from your computations. (You <b>do not</b> have to read up on the stability of the SVD algorithm, which you will also use below.)\n",
    "</p>\n",
    "\n",
    "\n",
    "<br/><b>(b)</b>\n",
    "You will need the Python CGS & MGS codes that you wrote for HW 01.\n",
    "* Make sure to check for correctness with the <a href=\"https://egp-cig-reu.github.io/MAT_167/notebooks/?path=tests%2Fhw01.ipynb\">unit tests</a>.\n",
    "\n",
    "\n",
    "<br/><b>(c)</b>\n",
    "You will also need the following LaTeX and PDF files\n",
    "* 2024_SQ_CRN_45961_CA_02_TABLE_TEMPLATE.tex\n",
    "* 2024_SQ_CRN_45961_CA_02_TABLE_TEMPLATE.pdf\n",
    "\n",
    "which can be found here:\n",
    "<center>\n",
    "<a href=\"https://canvas.ucdavis.edu/courses/883423/files/folder/ASSIGNMENTS/2024_SQ/2024_SQ_MAT_167_CA_02/TABLE_TEMPLATE\">TABLE_TEMPLATE</a>\n",
    "</center>\n",
    "\n",
    "<br/><b>NOTE:</b> At the end of this notebook, you will find a function that converts your data pre-formatted for insertion into a LaTeX Table.\n",
    "\n",
    "\n",
    "<br/><b>(d)</b>\n",
    "In this notebook, implement the Back Substitution algorithm as described in <a href=\"https://egp-cig-reu.github.io/MAT_167/files/lecture_notes/saito/NS_LECTURE_10.pdf\">NS_LECTURE_10.pdf</a> and my Lecture on Wed May 13, 2024. Your function/routine needs to take the output $[Q,R] = qr(A)$ from your CGS & MGS code or from the builtin QR routine in MATLAB or Python and return the solution $\\bf{\\hat{c}}$ of\n",
    "$$\n",
    "    R \\bf{\\hat{c}} = Q^T \\bf{y}\n",
    "$$\n",
    "as described in <a href=\"https://egp-cig-reu.github.io/MAT_167/files/lecture_notes/saito/NS_LECTURE_10.pdf\">NS_LECTURE_10.pdf</a> and my <b>LECTURE 18</b>. The matrix $A$, RHS vector $\\bf{y}$ and solution vector $\\bf{\\hat{c}}$ are described in <b>PART 01</b> below.\n",
    "\n",
    "\n",
    "\n",
    "<br/><b>(e)</b>\n",
    "The output from your MATLAB or Python program will be six columns of twelve numbers each that are formatted for a LaTeX table. If your code fails to output six lists of twelve coefficients each as described in <b>PART 04</b> you will NOT receive credit for this assignment. Post on <a href=\"https://piazza.com/ucdavis/spring2024/mat167sq2024/home\">PIAZZA</a> if you experience difficulties getting your code to work properly.\n",
    "\n",
    "\n",
    "<br/><b>(f)</b>\n",
    "Below you will find instructions for writing a clearly (but briefly) documented code that produces all of the output in PART 03 (a)– PART 03 (a)."
   ]
  },
  {
   "cell_type": "markdown",
   "metadata": {
    "editable": false,
    "slideshow": {
     "slide_type": ""
    },
    "tags": []
   },
   "source": [
    "## Part 01 : Theory (The Least Squares Problem)\n",
    "\n",
    "Let $m$ and $n$ be integers such that $m > n > 0$.\n",
    "\n",
    "Given $m$ distinct **grid points** in the unit interval,\n",
    "$$\n",
    "x_1=\\frac{0}{m-1}(=0), x_2=\\frac{1}{m-1}, ..., x_m=\\frac{m-1}{m-1}(=1),\n",
    "$$\n",
    "and $m$ **data points**,\n",
    "$$\n",
    "y_1, y_2, ..., y_m \\in \\mathbb{R},\n",
    "$$\n",
    "\n",
    "the goal is for you to **fit a polynomial of degree $(n - 1)$**\n",
    "$$\n",
    "p(x) = c_0 + c_1 x^1 + c_2 x^2 + ... + c_{n-1} x^{n-1}\n",
    "$$\n",
    "to the data $(x_i, y_i), i = 1,2,...,m$.  In this programming exercise the data points $y_i$ are given by\n",
    "$$\n",
    "y_i = \\cos({6 x_i}).\n",
    "$$\n",
    "\n",
    "\n",
    "<br/><b>(b)</b>\n",
    "The polynomial $p(x)$ is the best Least Squares fit or approximation to the data if it minimizes the **square** of the two norm of the residual\n",
    "$$\n",
    "\\lVert \\mathbf{r} \\rVert_2^2\n",
    "\\stackrel{\\mathrm{def}}{=}\n",
    "\\sum_{i=1}^{m}{|p(x_i)-y_i|^2}.\n",
    "$$\n",
    "\n",
    "We can write this requirement in matrix notation in the following way:\n",
    "$$\n",
    "\\underbrace{\\begin{bmatrix}\n",
    "1      & x_1    & x_1^2  & \\cdots & x_1^{n-1} \\\\\n",
    "1      & x_2    & x_2^2  & \\cdots & x_2^{n-1} \\\\\n",
    "\\vdots & \\ddots & \\ddots & \\ddots & \\vdots    \\\\\n",
    "1      & x_m    & x_m^2  & \\cdots & x_m^{n-1} \\\\\n",
    "\\end{bmatrix}}_{A}\n",
    "\\;\n",
    "\\underbrace{\\begin{bmatrix}\n",
    "            c_0    \\\\\n",
    "            c_2    \\\\\n",
    "            \\vdots \\\\\n",
    "            c_{n-1}\n",
    "            \\end{bmatrix}}_{\\mathbf{c}}\n",
    "            \\; = \\;\n",
    "\\underbrace{\\begin{bmatrix}\n",
    "            y_1    \\\\\n",
    "            y_2    \\\\\n",
    "            \\vdots \\\\\n",
    "            y_{m}\n",
    "            \\end{bmatrix}}_{\\mathbf{y}}.\n",
    "$$\n",
    "\n",
    "The matrix $A$ is called a **Vandermonde** matrix.  Thus, the polynomial $p(x)$ is the best Least Squares fit to the data if it minimizes\n",
    "$$\n",
    "\\lVert \\mathbf{r} \\rVert_2^2\n",
    "\\stackrel{\\mathrm{def}}{=}\n",
    "\\lVert \\mathbf{y} - A \\mathbf{c} \\rVert_2^2,\n",
    "$$\n",
    "\n",
    "where $\\mathbf{r} = \\mathbf{y} - A \\mathbf{c}$ is the residual.\n"
   ]
  },
  {
   "cell_type": "markdown",
   "metadata": {
    "editable": false,
    "slideshow": {
     "slide_type": ""
    },
    "tags": []
   },
   "source": [
    "## Part 02 : Setup\n",
    "\n",
    "Make sure you run the following cell **before** moving on to the next cells.  More generally, all code cells in this notebook should be run in order.\n",
    "\n",
    "You can run a cell by highlighting it and typing `<Shift+Enter>`."
   ]
  },
  {
   "cell_type": "code",
   "execution_count": 1,
   "metadata": {
    "editable": false,
    "slideshow": {
     "slide_type": ""
    },
    "tags": []
   },
   "outputs": [],
   "source": [
    "# Run some imports, and increase the default print-precision.\n",
    "\n",
    "import numpy as np\n",
    "import pandas as pd\n",
    "\n",
    "np.set_printoptions(precision=16)\n",
    "pd.options.display.float_format = '{:,.16f}'.format"
   ]
  },
  {
   "cell_type": "markdown",
   "metadata": {
    "editable": false,
    "slideshow": {
     "slide_type": ""
    },
    "tags": []
   },
   "source": [
    "### Generate values for our system of equations.\n",
    "\n",
    "* Take $m = 50$ and $n = 12$.\n",
    "\n",
    "* Define $\\bf{x}$ to be the m-vector (which we will refer to as the **grid**) corresponding to $m$ equally spaced grid points $x_i$ from 0 to 1 (inclusive).\n",
    "  * You may want to use [np.linspace](https://numpy.org/doc/stable/reference/generated/numpy.linspace.html) to help you with this.\n",
    "\n",
    "* Define $\\bf{y}$ to be the function $\\cos(6x)$ evaluated at the grid points.\n",
    "  * Be sure to use numpy's [broadcasting](https://numpy.org/doc/stable/user/basics.broadcasting.html) for this!\n",
    "  * For example, to compute the elementwise sin of a vector `vec`, you can write `np.sin(vec)`.\n",
    "  * One could also write `np.array([np.sin(v_i) for v_i in vec])`, but this is **slow**. Don't do it!\n",
    "\n",
    "* Define $A$ to be the $m \\times n$ **Vandermonde Matrix** associated with least-squares fitting on this grid by a polynomial of order $n-1$.\n",
    "  * You may want to use [np.vander](https://numpy.org/doc/stable/reference/generated/numpy.vander.html) to help you with this.\n",
    "  * Take note the optional `increasing` parameter! Writing `A = np.vander(x, 12)` will only get you partial credit.  Make sure to *look* at $A$ and compare it to what you see in \"Theory\".\n",
    "\n",
    "**Instructions:**\n",
    "\n",
    "In the following cell, define `x`, `y`, and `A` in Python as described above.  Make sure to run the cell, as we'll be using these values below."
   ]
  },
  {
   "cell_type": "code",
   "execution_count": 3,
   "metadata": {
    "editable": true,
    "slideshow": {
     "slide_type": ""
    },
    "tags": []
   },
   "outputs": [],
   "source": [
    "m = 50\n",
    "n = 12\n",
    "\n",
    "x = ???\n",
    "y = ???\n",
    "A = ???"
   ]
  },
  {
   "cell_type": "markdown",
   "metadata": {
    "editable": false,
    "slideshow": {
     "slide_type": ""
    },
    "tags": []
   },
   "source": [
    "## Part 03 : Algorithms\n",
    "\n",
    "Using the dataset above, you will *approximate* the least squares solution for $\\hat{c}$ where $\\hat{c}$ is the solution to $A\\hat{c} = \\bf{b}$, using six different methods.\n",
    "\n",
    "You will organize your results using a [pandas Dataframe](https://pandas.pydata.org/docs/reference/api/pandas.DataFrame.html), which is a popular data-structure for storing **tabular** data (ie, spreadsheets).\n",
    "\n",
    "Ultimately you will produce a $n \\times 6$ table, with one **row** for each $\\hat{c}_i$ and one **column** for each algorithm.\n",
    "\n",
    "### 3a) Builtin Solver.\n",
    "\n",
    "To get you started, we've created a DataFrame and populated the first column for you (using numpy's builtin [lstsq](https://numpy.org/doc/stable/reference/generated/numpy.linalg.lstsq.html) method).  Make sure to **run** this cell before moving on!\n",
    "\n",
    "**NOTE:** When highlighting digits in red in your table as described in PART 04 (a), use the digits from `c_hat['np:lstsq']` as your *\"GOLD STANDARD\"*."
   ]
  },
  {
   "cell_type": "code",
   "execution_count": 23,
   "metadata": {
    "editable": true,
    "slideshow": {
     "slide_type": ""
    },
    "tags": []
   },
   "outputs": [
    {
     "data": {
      "text/html": [
       "<div>\n",
       "<style scoped>\n",
       "    .dataframe tbody tr th:only-of-type {\n",
       "        vertical-align: middle;\n",
       "    }\n",
       "\n",
       "    .dataframe tbody tr th {\n",
       "        vertical-align: top;\n",
       "    }\n",
       "\n",
       "    .dataframe thead th {\n",
       "        text-align: right;\n",
       "    }\n",
       "</style>\n",
       "<table border=\"1\" class=\"dataframe\">\n",
       "  <thead>\n",
       "    <tr style=\"text-align: right;\">\n",
       "      <th></th>\n",
       "      <th>np.lstsq</th>\n",
       "    </tr>\n",
       "    <tr>\n",
       "      <th>i</th>\n",
       "      <th></th>\n",
       "    </tr>\n",
       "  </thead>\n",
       "  <tbody>\n",
       "    <tr>\n",
       "      <th>0</th>\n",
       "      <td>1.0000003170422456</td>\n",
       "    </tr>\n",
       "    <tr>\n",
       "      <th>1</th>\n",
       "      <td>-0.0001438869171453</td>\n",
       "    </tr>\n",
       "    <tr>\n",
       "      <th>2</th>\n",
       "      <td>-17.9933508474408228</td>\n",
       "    </tr>\n",
       "    <tr>\n",
       "      <th>3</th>\n",
       "      <td>-0.1185149457554676</td>\n",
       "    </tr>\n",
       "    <tr>\n",
       "      <th>4</th>\n",
       "      <td>55.0934311258083298</td>\n",
       "    </tr>\n",
       "    <tr>\n",
       "      <th>5</th>\n",
       "      <td>-5.9507856045636869</td>\n",
       "    </tr>\n",
       "    <tr>\n",
       "      <th>6</th>\n",
       "      <td>-44.3932868788175483</td>\n",
       "    </tr>\n",
       "    <tr>\n",
       "      <th>7</th>\n",
       "      <td>-45.3474040562426666</td>\n",
       "    </tr>\n",
       "    <tr>\n",
       "      <th>8</th>\n",
       "      <td>106.5916940357666363</td>\n",
       "    </tr>\n",
       "    <tr>\n",
       "      <th>9</th>\n",
       "      <td>-56.6056926064087023</td>\n",
       "    </tr>\n",
       "    <tr>\n",
       "      <th>10</th>\n",
       "      <td>7.6179961294152880</td>\n",
       "    </tr>\n",
       "    <tr>\n",
       "      <th>11</th>\n",
       "      <td>1.0662278302210748</td>\n",
       "    </tr>\n",
       "  </tbody>\n",
       "</table>\n",
       "</div>"
      ],
      "text/plain": [
       "               np.lstsq\n",
       "i                      \n",
       "0    1.0000003170422456\n",
       "1   -0.0001438869171453\n",
       "2  -17.9933508474408228\n",
       "3   -0.1185149457554676\n",
       "4   55.0934311258083298\n",
       "5   -5.9507856045636869\n",
       "6  -44.3932868788175483\n",
       "7  -45.3474040562426666\n",
       "8  106.5916940357666363\n",
       "9  -56.6056926064087023\n",
       "10   7.6179961294152880\n",
       "11   1.0662278302210748"
      ]
     },
     "execution_count": 23,
     "metadata": {},
     "output_type": "execute_result"
    }
   ],
   "source": [
    "c_hat = pd.DataFrame()\n",
    "c_hat.index.name = 'i'\n",
    "\n",
    "# Try removing `rcond=-1` below.\n",
    "# The warning you get will help you with your writeup!\n",
    "# A particularly clever person might even add an additional\n",
    "# column to their report...\n",
    "c_hat['np:lstsq'] = np.linalg.lstsq(A, y, rcond=-1)[0]\n",
    "c_hat"
   ]
  },
  {
   "cell_type": "markdown",
   "metadata": {
    "editable": false,
    "slideshow": {
     "slide_type": ""
    },
    "tags": []
   },
   "source": [
    "### 3b) Normal Equations.\n",
    "\n",
    "Solve for $\\hat{c}$ using $A^T A \\mathbf{\\hat{c}} = A^T \\mathbf{y}$ using [np.linalg.solve](https://numpy.org/doc/stable/reference/generated/numpy.linalg.solve.html).  Name your result `\"normal\"`.\n",
    "\n",
    "Hints:\n",
    "* `matrix.T` is shorthand for `np.transpose(matrix)`.\n",
    "* `A @ B` is shorthand for `np.matmul(A, B)`.\n",
    "* `np.linalg.cond` may be helpful when writing your report...\n",
    "\n",
    "**In Your Report:**\n",
    "* How accurate is the result? Why?\n",
    "* **MAKE SURE** to cite the appropriate Saito Lecture Note **with page number** (eg, `NS_LECTURE_xx.pdf, page yy`) "
   ]
  },
  {
   "cell_type": "code",
   "execution_count": 17,
   "metadata": {
    "editable": true,
    "slideshow": {
     "slide_type": ""
    },
    "tags": []
   },
   "outputs": [],
   "source": [
    "c_hat[\"normal\"] = ???"
   ]
  },
  {
   "cell_type": "markdown",
   "metadata": {
    "editable": false,
    "slideshow": {
     "slide_type": ""
    },
    "tags": []
   },
   "source": [
    "### 3c-3e) QR Decompositions.\n",
    "\n",
    "Next, solve for $\\hat{c}$ given the QR decomposition of `A`, this time using [back-substitution](https://algowiki-project.org/en/Backward_substitution) (*not* `np.linalg.solve`).  You can refer to [scipy.linalg.solve_triangular](https://docs.scipy.org/doc/scipy/reference/generated/scipy.linalg.solve_triangular.html) for reference, but you should implement the algorithm yourself below.\n",
    "\n",
    "Use your helper to solve for $\\hat{c}$ using numpy's builtin QR solver, as well as the `classical_gram_schmidt` and `modified_gram_schmidt` methods you coded up in `hw01`.\n",
    "* You should paste your functions directly into the corresponding cell.\n",
    "* We have provided our `classical_gram_schmidt` implementation as an example. Your `modified_gram_schmidt` implementation should have the same **signature** (inputs/outputs).\n",
    "* You can use `unit_tests/hw01.ipynb` to check your implementations.\n",
    "\n",
    "Name your results `\"qr\"`, `\"cgs\"`, and `\"mgs\"`, respectively."
   ]
  },
  {
   "cell_type": "code",
   "execution_count": 38,
   "metadata": {
    "editable": true,
    "slideshow": {
     "slide_type": ""
    },
    "tags": []
   },
   "outputs": [],
   "source": [
    "def solve_upper_triangular(R, b):\n",
    "    \"\"\"Performs back-substitution to solve for the `x` in `Rx=b`, where R is upper-triangular.\n",
    "    \n",
    "    Arguments:\n",
    "        R: An upper-triangular matrix.\n",
    "        b: A vector.\n",
    "    Returns:\n",
    "        The solution, `x`, to `Rx=b`.\n",
    "    \"\"\"\n",
    "    return NotImplemented  # Implement me!\n",
    "\n",
    "Q, R = np.linalg.qr(A)\n",
    "c_hat[\"qr\"] = ???"
   ]
  },
  {
   "cell_type": "code",
   "execution_count": 20,
   "metadata": {
    "editable": true,
    "slideshow": {
     "slide_type": ""
    },
    "tags": []
   },
   "outputs": [],
   "source": [
    "def classical_gram_schmidt(A: np.ndarray):\n",
    "    \"\"\"Returns the QR decomposition of A using the classical gram-schmidt algorithm.\n",
    "\n",
    "    Arguments:\n",
    "        A (np.ndarray): A matrix whose columns are linearly independent.\n",
    "    Returns:\n",
    "        (Q, R): The QR decomposition of A.\n",
    "    \"\"\"\n",
    "    A = np.asanyarray(A, dtype=np.float64)\n",
    "    m, n = A.shape\n",
    "    assert m >= n\n",
    "\n",
    "    Q = np.zeros_like(A)\n",
    "    R = np.zeros((n, n), dtype=A.dtype)\n",
    "    for j in range(n):\n",
    "        Q[:, j] = A[:, j]\n",
    "        for k in range(j):\n",
    "            R[k, j] = Q[:, k] @ A[:, j]\n",
    "            Q[:, j] -= R[k, j] * Q[:, k]\n",
    "        R[j, j] = np.linalg.norm(Q[:, j], ord=2)\n",
    "        Q[:, j] /= R[j, j]\n",
    "    return Q, R\n",
    "\n",
    "Qcgs, Rcgs = classical_gram_schmidt(A)\n",
    "c_hat[\"cgs\"] = ???"
   ]
  },
  {
   "cell_type": "code",
   "execution_count": 4,
   "metadata": {
    "editable": true,
    "slideshow": {
     "slide_type": ""
    },
    "tags": []
   },
   "outputs": [],
   "source": [
    "def modified_gram_schmidt(A: np.ndarray):\n",
    "    \"\"\"Returns the QR decomposition of A using the modified gram-schmidt algorithm.\n",
    "\n",
    "    Arguments:\n",
    "        A (np.ndarray): A matrix whose columns are linearly independent.\n",
    "    Returns:\n",
    "        (Q, R): The QR decomposition of A.\n",
    "    \"\"\"\n",
    "    # Paste your solution here!!\n",
    "\n",
    "Qmgs, Rmgs = modified_gram_schmidt(A)\n",
    "c_hat[\"mgs\"] = ???"
   ]
  },
  {
   "cell_type": "markdown",
   "metadata": {
    "editable": false,
    "slideshow": {
     "slide_type": ""
    },
    "tags": []
   },
   "source": [
    "### 3f) SVD.\n",
    "\n",
    "Use [np.linalg.svd](https://numpy.org/doc/stable/reference/generated/numpy.linalg.svd.html) to approximate $\\hat{c}$.  Name your result `\"svd\"`.\n",
    "\n",
    "You may want to look at Professor Saito's [NS_LECTURE_17](https://egp-cig-reu.github.io/MAT_167/files/lecture_notes/saito/NS_LECTURE_17.pdf) to see how to set this problem up."
   ]
  },
  {
   "cell_type": "code",
   "execution_count": null,
   "metadata": {
    "editable": true,
    "slideshow": {
     "slide_type": ""
    },
    "tags": []
   },
   "outputs": [],
   "source": [
    "U, S, Vh = np.linalg.svd(A, full_matrices=False)\n",
    "c_hat[\"svd\"] = ???"
   ]
  },
  {
   "cell_type": "markdown",
   "metadata": {
    "editable": false,
    "slideshow": {
     "slide_type": ""
    },
    "tags": []
   },
   "source": [
    "## 4) Formatting the table.\n",
    "\n",
    "### 4a) Inspect your results.\n",
    "Your computations haved produced six different vectors each with n = 12 components.  Thus, you have produced the coefficients for six different polynomials of the form shown in \"Theory\".\n",
    "\n",
    "Take a second to compare your approximations digit-by-digit, up to 16 digits of precision.  The values approximated by each algorithm should be *close* but not *identical*.  If one of your solvers looks severely off, this might be a good opportunity to check for bugs.\n",
    "\n",
    "You may find it easier to look at the **transpose** of your table (`c_hat.T`), such that each **row** is an algorithm and each **column** is a particular $\\hat{c}_i$.  Your final report, however, should include algorithms as columns."
   ]
  },
  {
   "cell_type": "code",
   "execution_count": null,
   "metadata": {
    "editable": true,
    "slideshow": {
     "slide_type": ""
    },
    "tags": []
   },
   "outputs": [
    {
     "data": {
      "text/html": [
       "<div>\n",
       "<style scoped>\n",
       "    .dataframe tbody tr th:only-of-type {\n",
       "        vertical-align: middle;\n",
       "    }\n",
       "\n",
       "    .dataframe tbody tr th {\n",
       "        vertical-align: top;\n",
       "    }\n",
       "\n",
       "    .dataframe thead th {\n",
       "        text-align: right;\n",
       "    }\n",
       "</style>\n",
       "<table border=\"1\" class=\"dataframe\">\n",
       "  <thead>\n",
       "    <tr style=\"text-align: right;\">\n",
       "      <th></th>\n",
       "      <th>np.lstsq</th>\n",
       "      <th>cgs</th>\n",
       "    </tr>\n",
       "    <tr>\n",
       "      <th>i</th>\n",
       "      <th></th>\n",
       "      <th></th>\n",
       "    </tr>\n",
       "  </thead>\n",
       "  <tbody>\n",
       "    <tr>\n",
       "      <th>0</th>\n",
       "      <td>1.0000003170422456</td>\n",
       "      <td>1.0000003170422123</td>\n",
       "    </tr>\n",
       "    <tr>\n",
       "      <th>1</th>\n",
       "      <td>-0.0001438869171453</td>\n",
       "      <td>-0.0001438868981619</td>\n",
       "    </tr>\n",
       "    <tr>\n",
       "      <th>2</th>\n",
       "      <td>-17.9933508474408228</td>\n",
       "      <td>-17.9933508481824376</td>\n",
       "    </tr>\n",
       "    <tr>\n",
       "      <th>3</th>\n",
       "      <td>-0.1185149457554676</td>\n",
       "      <td>-0.1185149345670802</td>\n",
       "    </tr>\n",
       "    <tr>\n",
       "      <th>4</th>\n",
       "      <td>55.0934311258083298</td>\n",
       "      <td>55.0934310385098840</td>\n",
       "    </tr>\n",
       "    <tr>\n",
       "      <th>5</th>\n",
       "      <td>-5.9507856045636869</td>\n",
       "      <td>-5.9507852041438811</td>\n",
       "    </tr>\n",
       "    <tr>\n",
       "      <th>6</th>\n",
       "      <td>-44.3932868788175483</td>\n",
       "      <td>-44.3932880303301971</td>\n",
       "    </tr>\n",
       "    <tr>\n",
       "      <th>7</th>\n",
       "      <td>-45.3474040562426666</td>\n",
       "      <td>-45.3474019208441206</td>\n",
       "    </tr>\n",
       "    <tr>\n",
       "      <th>8</th>\n",
       "      <td>106.5916940357666363</td>\n",
       "      <td>106.5916914843842846</td>\n",
       "    </tr>\n",
       "    <tr>\n",
       "      <th>9</th>\n",
       "      <td>-56.6056926064087023</td>\n",
       "      <td>-56.6056907094191999</td>\n",
       "    </tr>\n",
       "    <tr>\n",
       "      <th>10</th>\n",
       "      <td>7.6179961294152880</td>\n",
       "      <td>7.6179953310812563</td>\n",
       "    </tr>\n",
       "    <tr>\n",
       "      <th>11</th>\n",
       "      <td>1.0662278302210748</td>\n",
       "      <td>1.0662279754750210</td>\n",
       "    </tr>\n",
       "  </tbody>\n",
       "</table>\n",
       "</div>"
      ],
      "text/plain": [
       "               np.lstsq                  cgs\n",
       "i                                           \n",
       "0    1.0000003170422456   1.0000003170422123\n",
       "1   -0.0001438869171453  -0.0001438868981619\n",
       "2  -17.9933508474408228 -17.9933508481824376\n",
       "3   -0.1185149457554676  -0.1185149345670802\n",
       "4   55.0934311258083298  55.0934310385098840\n",
       "5   -5.9507856045636869  -5.9507852041438811\n",
       "6  -44.3932868788175483 -44.3932880303301971\n",
       "7  -45.3474040562426666 -45.3474019208441206\n",
       "8  106.5916940357666363 106.5916914843842846\n",
       "9  -56.6056926064087023 -56.6056907094191999\n",
       "10   7.6179961294152880   7.6179953310812563\n",
       "11   1.0662278302210748   1.0662279754750210"
      ]
     },
     "execution_count": 14,
     "metadata": {},
     "output_type": "execute_result"
    }
   ],
   "source": [
    "c_hat  # This table will go in your report.\n",
    "# c_hat.T  # This may be easier to look at.  Uncomment this line to see the transposed view."
   ]
  },
  {
   "cell_type": "markdown",
   "metadata": {
    "editable": false,
    "slideshow": {
     "slide_type": ""
    },
    "tags": []
   },
   "source": [
    "### 4b) Format results with LaTex.\n",
    "\n",
    "We've provided a `values_to_latex` function, which converts a `pd.DataFrame` of floats to a Latex string that you can copy-paste into your report. Run this below, and copy-paste the output into your editor of choice.\n",
    "\n",
    "Identify which digits in each column you believe are correct and which digits are incorrect.  Digits may be incorrect due to one of\n",
    "* An unstable (direct) solver.\n",
    "* An ill-conditioned matrix.\n",
    "* Roundoff error.\n",
    "\n",
    "Wrap the questional digits in the LaTex `\\rd{ }` macro to turn those digits red.\n",
    "$\\def\\rd#1{\\textcolor{red}{#1}}$\n",
    "\n",
    "For example, if one of your values were $1.00123$ and you believe the final two digits to be suss, you would write `1.001\\rd{23}` to display $1.001\\rd{23}$.\n",
    "\n",
    "**Task:** Paste the *annotated* table into your report.  Make sure to **run the following code cell *after* adding all the columns to `c_hat`**.\n",
    "\n",
    "**Note:** The command `\\rd{...}` is a latex **macro** [defined](http://www.emerson.emory.edu/services/latex/latex_19.html) in this cell.  If you want to use this in a standalone `.tex` file, you can write `\\newcommand{rd}[1]{\\textcolor{red}{#1}}` in the [preamble](https://olivierpieters.be/blog/2016/08/10/latex-preamble).  We did something *slightly* different here, because jupyter notebooks don't have preambles. For those curious enough to double-click this cell, what you'll find is considered *bad practice*."
   ]
  },
  {
   "cell_type": "code",
   "execution_count": 3,
   "metadata": {
    "editable": false,
    "slideshow": {
     "slide_type": ""
    },
    "tags": []
   },
   "outputs": [],
   "source": [
    "import textwrap\n",
    "\n",
    "def values_to_latex(df, fmt='{:+0.16f}'):\n",
    "    \"\"\"Converts a dataframe of floats to a latex string.\"\"\"\n",
    "    if isinstance(fmt, str):\n",
    "        fmt = fmt.format\n",
    "\n",
    "    schema = \"|\".join( \"c\" * len(df.columns) )\n",
    "    header = '\\t& '.join(\n",
    "        f'\\\\mathrm{{{algo}}}'\n",
    "        for algo in df.columns)\n",
    "    content = \"\\t\\\\\\\\\\n        \".join(\n",
    "        \"\\t& \".join(map(fmt, row))\n",
    "        for row in df.values)\n",
    "    return textwrap.dedent(f\"\"\"\n",
    "        $$\n",
    "        \\\\scriptsize\n",
    "        \\\\begin{{array}}{{ |{schema}| }}\n",
    "        \\\\hline\n",
    "        {header}\\t\\\\\\\\\n",
    "        \\\\hline\n",
    "        {content}\\t\\\\\\\\\n",
    "        \\\\hline\n",
    "        \\\\end{{array}}\n",
    "        $$\n",
    "        \"\"\")\n",
    "\n",
    "# Run this cell to generate an unstyled latex table.\n",
    "print(values_to_latex(c_hat))"
   ]
  },
  {
   "cell_type": "markdown",
   "metadata": {
    "editable": true,
    "slideshow": {
     "slide_type": ""
    },
    "tags": []
   },
   "source": [
    "## 5) Report\n",
    "\n",
    "Download and fill in the [report template](https://canvas.ucdavis.edu/courses/883423/files/folder/ASSIGNMENTS/2024_SQ/2024_SQ_MAT_167_CA_02/REPORT_TEMPLATE).  Comment on and analyze the differences in the **numerical** solution $\\bf{\\hat{c}}$ that you observe, following the questions in the template."
   ]
  },
  {
   "cell_type": "markdown",
   "metadata": {},
   "source": []
  }
 ],
 "metadata": {
  "kernelspec": {
   "display_name": "Python 3 (ipykernel)",
   "language": "python",
   "name": "python3"
  },
  "language_info": {
   "codemirror_mode": {
    "name": "ipython",
    "version": 3
   },
   "file_extension": ".py",
   "mimetype": "text/x-python",
   "name": "python",
   "nbconvert_exporter": "python",
   "pygments_lexer": "ipython3",
   "version": "3.11.4"
  }
 },
 "nbformat": 4,
 "nbformat_minor": 4
}
