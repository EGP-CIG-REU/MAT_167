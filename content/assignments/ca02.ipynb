{
 "cells": [
  {
   "cell_type": "markdown",
   "metadata": {
    "editable": false,
    "slideshow": {
     "slide_type": ""
    },
    "tags": []
   },
   "source": [
    "## Part 01 : Review\n",
    "\n",
    "Review the following files:\n",
    "\n",
    "1) [NS_LECTURE_06.pdf](https://canvas.ucdavis.edu/files/22546365/download?download_frd=1) (especially page 07)\n",
    "2) [NS_LECTURE_07.pdf](https://canvas.ucdavis.edu/files/22546356/download?download_frd=1) (especially pages 01 & 02).\n",
    "3) [Professor Saito's Lecture Notes](https://canvas.ucdavis.edu/courses/859953/files/folder/LECTURE_NOTES/PROFESSOR_SAITOS_LECTURE_NOTES_2022_WQ}{PROFESSOR\\_SAITOS\\_LECTURE\\_NOTES) 09 through 11 (inclusive)."
   ]
  },
  {
   "cell_type": "markdown",
   "metadata": {
    "editable": false,
    "slideshow": {
     "slide_type": ""
    },
    "tags": []
   },
   "source": [
    "## Part 02 : Theory\n",
    "\n",
    "Let $m$ and $n$ be integers such that $m > n$.\n",
    "\n",
    "Given $m$ distinct **grid points** in the unit interval,\n",
    "$$\n",
    "x_1=0, x_2, ..., x_m=1,\n",
    "$$\n",
    "and $m$ **data points**,\n",
    "$$\n",
    "y_1, y_2, ..., x_m \\in \\mathbb{R},\n",
    "$$\n",
    "\n",
    "the goal is for you to **fit a polynomial of degree $(n - 1)$**\n",
    "$$\n",
    "p(x) = c_0 + c_1 x^1 + c_2 x^2 + ... + c_{n-1} x^{n-1}\n",
    "$$\n",
    "to the data $(x_i, y_i), i = 1,2,...,m$.  In this programming exercise the data points $y_i$ are given by\n",
    "$$\n",
    "y_i = \\cos({6 x_i}).\n",
    "$$\n",
    "\n",
    "The polynomial $p(x)$ is the best Least Squares fit or approximation to the data if it minimizes the **square** of the two norm of the residual\n",
    "$$\n",
    "\\lVert \\mathbf{r} \\rVert_2^2\n",
    "\\stackrel{\\mathrm{def}}{=}\n",
    "\\sum_{i=1}^{m}{|p(x_i)-y_i|^2}.\n",
    "$$\n",
    "\n",
    "We can write this requirement in matrix notation in the following way:\n",
    "$$\n",
    "\\underbrace{\\begin{bmatrix}\n",
    "1      & x_1    & x_1^2  & \\cdots & x_1^{n-1} \\\\\n",
    "1      & x_2    & x_2^2  & \\cdots & x_2^{n-1} \\\\\n",
    "\\vdots & \\ddots & \\ddots & \\ddots & \\vdots    \\\\\n",
    "1      & x_m    & x_m^2  & \\cdots & x_m^{n-1} \\\\\n",
    "\\end{bmatrix}}_{A}\n",
    "\\;\n",
    "\\underbrace{\\begin{bmatrix}\n",
    "            c_0    \\\\\n",
    "            c_2    \\\\\n",
    "            \\vdots \\\\\n",
    "            c_{n-1}\n",
    "            \\end{bmatrix}}_{\\mathbf{c}}\n",
    "            \\; = \\;\n",
    "\\underbrace{\\begin{bmatrix}\n",
    "            y_1    \\\\\n",
    "            y_2    \\\\\n",
    "            \\vdots \\\\\n",
    "            y_{m}\n",
    "            \\end{bmatrix}}_{\\mathbf{y}}.\n",
    "$$\n",
    "\n",
    "The matrix $A$ is called a **Vandermonde** matrix.  Thus, the polynomial $p(x)$ is the best Least Squares fit to the data if it minimizes\n",
    "$$\n",
    "\\lVert \\mathbf{r} \\rVert_2^2\n",
    "\\stackrel{\\mathrm{def}}{=}\n",
    "\\lVert \\mathbf{y} - A \\mathbf{c} \\rVert_2^2,\n",
    "$$\n",
    "\n",
    "where $\\mathbf{r} = \\mathbf{y} - A \\mathbf{c}$ is the residual.\n"
   ]
  },
  {
   "cell_type": "markdown",
   "metadata": {
    "editable": false,
    "slideshow": {
     "slide_type": ""
    },
    "tags": []
   },
   "source": [
    "## Part 03 : Setup\n",
    "\n",
    "Make sure you run the following cell **before** moving on to the next cells.  More generally, all code cells in this notebook should be run in order.\n",
    "\n",
    "You can run a cell by highlighting it and typing `<Shift+Enter>`."
   ]
  },
  {
   "cell_type": "code",
   "execution_count": 1,
   "metadata": {
    "editable": false,
    "slideshow": {
     "slide_type": ""
    },
    "tags": []
   },
   "outputs": [],
   "source": [
    "# Run some imports, and increase the default print-precision.\n",
    "\n",
    "import numpy as np\n",
    "import pandas as pd\n",
    "\n",
    "np.set_printoptions(precision=16)\n",
    "pd.options.display.float_format = '{:,.16f}'.format"
   ]
  },
  {
   "cell_type": "markdown",
   "metadata": {
    "editable": false,
    "slideshow": {
     "slide_type": ""
    },
    "tags": []
   },
   "source": [
    "### Generate values for our system of equations.\n",
    "\n",
    "* Take $m = 50$ and $n = 12$.\n",
    "\n",
    "* Define $\\bf{x}$ to be the m-vector (which we will refer to as the **grid**) corresponding to $m$ equally spaced grid points $x_i$ from 0 to 1 (inclusive).\n",
    "  * You may want to use [np.linspace](https://numpy.org/doc/stable/reference/generated/numpy.linspace.html) to help you with this.\n",
    "\n",
    "* Define $\\bf{y}$ to be the function $\\cos(6x)$ evaluated at the grid points.\n",
    "  * Be sure to use numpy's [broadcasting](https://numpy.org/doc/stable/user/basics.broadcasting.html) for this!\n",
    "  * For example, to compute the elementwise sin of a vector `vec`, you can write `np.sin(vec)`.\n",
    "  * One could also write `np.array([np.sin(v_i) for v_i in vec])`, but this is **slow**. Don't do it!\n",
    "\n",
    "* Define $A$ to be the $m \\times n$ **Vandermonde Matrix** associated with least-squares fitting on this grid by a polynomial of order $n-1$.\n",
    "  * You may want to use [np.vander](https://numpy.org/doc/stable/reference/generated/numpy.vander.html) to help you with this.\n",
    "  * Take note the optional `increasing` parameter! Writing `A = np.vander(x, 12)` will only get you partial credit.  Make sure to *look* at $A$ and compare it to what you see in \"Theory\".\n",
    "\n",
    "**Instructions:**\n",
    "\n",
    "In the following cell, define `x`, `y`, and `A` in Python as described above.  Make sure to run the cell, as we'll be using these values below."
   ]
  },
  {
   "cell_type": "code",
   "execution_count": 3,
   "metadata": {
    "editable": true,
    "slideshow": {
     "slide_type": ""
    },
    "tags": []
   },
   "outputs": [],
   "source": [
    "m = 50\n",
    "n = 12\n",
    "\n",
    "x = ???\n",
    "y = ???\n",
    "A = ???"
   ]
  },
  {
   "cell_type": "markdown",
   "metadata": {
    "editable": false,
    "slideshow": {
     "slide_type": ""
    },
    "tags": []
   },
   "source": [
    "## Part 04 : Algorithms\n",
    "\n",
    "Using the dataset above, you will *approximate* the least squares solution for $\\hat{c}$ where $\\hat{c}$ is the solution to $A\\hat{c} = \\bf{y}$, using six different methods.\n",
    "\n",
    "You will organize your results using a [pandas Dataframe](https://pandas.pydata.org/docs/reference/api/pandas.DataFrame.html), which is a popular data-structure for storing **tabular** data (ie, spreadsheets).\n",
    "\n",
    "Ultimately you will produce a $n \\times 6$ table, with one **row** for each $\\hat{c}_i$ and one **column** for each algorithm.\n",
    "\n",
    "### 4a) Builtin Solver.\n",
    "\n",
    "To get you started, we've populated the first column for you (numpy's builtin [lstsq](https://numpy.org/doc/stable/reference/generated/numpy.linalg.lstsq.html) method).  Make sure to **run** this cell before moving on!"
   ]
  },
  {
   "cell_type": "code",
   "execution_count": 23,
   "metadata": {
    "editable": false,
    "slideshow": {
     "slide_type": ""
    },
    "tags": []
   },
   "outputs": [
    {
     "data": {
      "text/html": [
       "<div>\n",
       "<style scoped>\n",
       "    .dataframe tbody tr th:only-of-type {\n",
       "        vertical-align: middle;\n",
       "    }\n",
       "\n",
       "    .dataframe tbody tr th {\n",
       "        vertical-align: top;\n",
       "    }\n",
       "\n",
       "    .dataframe thead th {\n",
       "        text-align: right;\n",
       "    }\n",
       "</style>\n",
       "<table border=\"1\" class=\"dataframe\">\n",
       "  <thead>\n",
       "    <tr style=\"text-align: right;\">\n",
       "      <th></th>\n",
       "      <th>np.lstsq</th>\n",
       "    </tr>\n",
       "    <tr>\n",
       "      <th>i</th>\n",
       "      <th></th>\n",
       "    </tr>\n",
       "  </thead>\n",
       "  <tbody>\n",
       "    <tr>\n",
       "      <th>0</th>\n",
       "      <td>1.0000003170422456</td>\n",
       "    </tr>\n",
       "    <tr>\n",
       "      <th>1</th>\n",
       "      <td>-0.0001438869171453</td>\n",
       "    </tr>\n",
       "    <tr>\n",
       "      <th>2</th>\n",
       "      <td>-17.9933508474408228</td>\n",
       "    </tr>\n",
       "    <tr>\n",
       "      <th>3</th>\n",
       "      <td>-0.1185149457554676</td>\n",
       "    </tr>\n",
       "    <tr>\n",
       "      <th>4</th>\n",
       "      <td>55.0934311258083298</td>\n",
       "    </tr>\n",
       "    <tr>\n",
       "      <th>5</th>\n",
       "      <td>-5.9507856045636869</td>\n",
       "    </tr>\n",
       "    <tr>\n",
       "      <th>6</th>\n",
       "      <td>-44.3932868788175483</td>\n",
       "    </tr>\n",
       "    <tr>\n",
       "      <th>7</th>\n",
       "      <td>-45.3474040562426666</td>\n",
       "    </tr>\n",
       "    <tr>\n",
       "      <th>8</th>\n",
       "      <td>106.5916940357666363</td>\n",
       "    </tr>\n",
       "    <tr>\n",
       "      <th>9</th>\n",
       "      <td>-56.6056926064087023</td>\n",
       "    </tr>\n",
       "    <tr>\n",
       "      <th>10</th>\n",
       "      <td>7.6179961294152880</td>\n",
       "    </tr>\n",
       "    <tr>\n",
       "      <th>11</th>\n",
       "      <td>1.0662278302210748</td>\n",
       "    </tr>\n",
       "  </tbody>\n",
       "</table>\n",
       "</div>"
      ],
      "text/plain": [
       "               np.lstsq\n",
       "i                      \n",
       "0    1.0000003170422456\n",
       "1   -0.0001438869171453\n",
       "2  -17.9933508474408228\n",
       "3   -0.1185149457554676\n",
       "4   55.0934311258083298\n",
       "5   -5.9507856045636869\n",
       "6  -44.3932868788175483\n",
       "7  -45.3474040562426666\n",
       "8  106.5916940357666363\n",
       "9  -56.6056926064087023\n",
       "10   7.6179961294152880\n",
       "11   1.0662278302210748"
      ]
     },
     "execution_count": 23,
     "metadata": {},
     "output_type": "execute_result"
    }
   ],
   "source": [
    "c_hat = pd.DataFrame()\n",
    "c_hat.index.name = 'i'\n",
    "\n",
    "# Try removing `rcond=-1` below.\n",
    "# The warning you get will help you with your writeup!\n",
    "# A particularly clever person might even add an additional\n",
    "# column to their report...\n",
    "c_hat['np.lstsq'] = np.linalg.lstsq(A, y, rcond=-1)[0]\n",
    "c_hat"
   ]
  },
  {
   "cell_type": "markdown",
   "metadata": {
    "editable": false,
    "slideshow": {
     "slide_type": ""
    },
    "tags": []
   },
   "source": [
    "### 4b) Normal Equations.\n",
    "\n",
    "Solve for $\\hat{c}$ using $A^T A \\hat{c} = A^T \\mathbf{y}$.  Name your result `\"normal\"`.\n",
    "\n",
    "**Note:** you should ***always*** use numpy's [solve](https://numpy.org/doc/stable/reference/generated/numpy.linalg.solve.html) method rather than [inv](https://numpy.org/doc/stable/reference/generated/numpy.linalg.inv.html).  Although they look similar, `np.linalg.solve(A, y)` is a *far* more stable approximation than `np.linalg.inv(A) @ y` (note that `@` is matrix-multiplication for numpy arrays)."
   ]
  },
  {
   "cell_type": "code",
   "execution_count": 17,
   "metadata": {
    "editable": true,
    "slideshow": {
     "slide_type": ""
    },
    "tags": []
   },
   "outputs": [],
   "source": [
    "c_hat[\"normal\"] = ???"
   ]
  },
  {
   "cell_type": "markdown",
   "metadata": {
    "editable": false,
    "slideshow": {
     "slide_type": ""
    },
    "tags": []
   },
   "source": [
    "### 4c-4e) QR Decompositions.\n",
    "\n",
    "Next, solve for $\\hat{c}$ given the QR decomposition of `A`, once again using `np.linalg.solve`.\n",
    "\n",
    "Use your helper to solve for $\\hat{c}$ using numpy's builtin QR solver, as well as the `classical_gram_schmidt` and `modified_gram_schmidt` methods you coded up in `hw01`.\n",
    "* You should paste your functions directly into the corresponding cell.\n",
    "* We have provided our `classical_gram_schmidt` implementation as an example. Your `modified_gram_schmidt` implementation should have the same **signature** (inputs/outputs).\n",
    "* You can use `unit_tests/hw01.ipynb` to check your implementations.\n",
    "\n",
    "Name your results `\"qr\"`, `\"cgs\"`, and `\"mgs\"`, respectively."
   ]
  },
  {
   "cell_type": "code",
   "execution_count": 38,
   "metadata": {
    "editable": true,
    "slideshow": {
     "slide_type": ""
    },
    "tags": []
   },
   "outputs": [],
   "source": [
    "Q, R = np.linalg.qr(A)\n",
    "c_hat[\"qr\"] = ???"
   ]
  },
  {
   "cell_type": "code",
   "execution_count": 20,
   "metadata": {
    "editable": true,
    "slideshow": {
     "slide_type": ""
    },
    "tags": []
   },
   "outputs": [],
   "source": [
    "def classical_gram_schmidt(A: np.ndarray):\n",
    "    \"\"\"Returns the QR decomposition of A using the classical gram-schmidt algorithm.\n",
    "\n",
    "    Arguments:\n",
    "        A (np.ndarray): A matrix whose columns are linearly independent.\n",
    "    Returns:\n",
    "        (Q, R): The QR decomposition of A.\n",
    "    \"\"\"\n",
    "    A = np.asanyarray(A, dtype=np.float64)\n",
    "    m, n = A.shape\n",
    "    assert m >= n\n",
    "\n",
    "    Q = np.zeros_like(A)\n",
    "    for j in range(n):\n",
    "        qj = A[:, j].copy()\n",
    "        for k in range(j):\n",
    "            qj -= (Q[:, k] @ A[:, j]) * Q[:, k]\n",
    "        Q[:, j] = qj / np.linalg.norm(qj)\n",
    "    return Q, Q.T @ A\n",
    "\n",
    "Qcgs, Rcgs = classical_gram_schmidt(A)\n",
    "c_hat[\"cgs\"] = ???"
   ]
  },
  {
   "cell_type": "code",
   "execution_count": 4,
   "metadata": {
    "editable": true,
    "slideshow": {
     "slide_type": ""
    },
    "tags": []
   },
   "outputs": [],
   "source": [
    "def modified_gram_schmidt(A: np.ndarray):\n",
    "    \"\"\"Returns the QR decomposition of A using the modified gram-schmidt algorithm.\n",
    "\n",
    "    Arguments:\n",
    "        A (np.ndarray): A matrix whose columns are linearly independent.\n",
    "    Returns:\n",
    "        (Q, R): The QR decomposition of A.\n",
    "    \"\"\"\n",
    "    # Paste your solution here!!\n",
    "\n",
    "Qmgs, Rmgs = modified_gram_schmidt(A)\n",
    "c_hat[\"mgs\"] = ???"
   ]
  },
  {
   "cell_type": "markdown",
   "metadata": {
    "editable": false,
    "slideshow": {
     "slide_type": ""
    },
    "tags": []
   },
   "source": [
    "### 4f) SVD.\n",
    "\n",
    "Use [np.linalg.svd](https://numpy.org/doc/stable/reference/generated/numpy.linalg.svd.html) to approximate $\\hat{c}$.  Name your result `\"svd\"`."
   ]
  },
  {
   "cell_type": "code",
   "execution_count": null,
   "metadata": {
    "editable": true,
    "slideshow": {
     "slide_type": ""
    },
    "tags": []
   },
   "outputs": [],
   "source": [
    "U, S, Vh = np.linalg.svd(A, full_matrices=False)\n",
    "c_hat[\"svd\"] = ???"
   ]
  },
  {
   "cell_type": "markdown",
   "metadata": {
    "editable": false,
    "slideshow": {
     "slide_type": ""
    },
    "tags": []
   },
   "source": [
    "## 5) Report.\n",
    "\n",
    "### 5a) Print results in Pandas.\n",
    "\n",
    "Take a second to compare your approximations digit-by-digit.  The values approximated by each algorithm should be *close* but not *identical*.  If one of your solvers looks severely off, this might be a good opportunity to check for bugs.\n",
    "\n",
    "You may find it easier to look at the **transpose** of your table (`c_hat.T`), such that each **row** is an algorithm and each **column** is a particular $\\hat{c}_i$.  Your final report, however, should include algorithms as columns."
   ]
  },
  {
   "cell_type": "code",
   "execution_count": null,
   "metadata": {
    "editable": true,
    "slideshow": {
     "slide_type": ""
    },
    "tags": []
   },
   "outputs": [
    {
     "data": {
      "text/html": [
       "<div>\n",
       "<style scoped>\n",
       "    .dataframe tbody tr th:only-of-type {\n",
       "        vertical-align: middle;\n",
       "    }\n",
       "\n",
       "    .dataframe tbody tr th {\n",
       "        vertical-align: top;\n",
       "    }\n",
       "\n",
       "    .dataframe thead th {\n",
       "        text-align: right;\n",
       "    }\n",
       "</style>\n",
       "<table border=\"1\" class=\"dataframe\">\n",
       "  <thead>\n",
       "    <tr style=\"text-align: right;\">\n",
       "      <th></th>\n",
       "      <th>np.lstsq</th>\n",
       "      <th>cgs</th>\n",
       "    </tr>\n",
       "    <tr>\n",
       "      <th>i</th>\n",
       "      <th></th>\n",
       "      <th></th>\n",
       "    </tr>\n",
       "  </thead>\n",
       "  <tbody>\n",
       "    <tr>\n",
       "      <th>0</th>\n",
       "      <td>1.0000003170422456</td>\n",
       "      <td>1.0000003170422123</td>\n",
       "    </tr>\n",
       "    <tr>\n",
       "      <th>1</th>\n",
       "      <td>-0.0001438869171453</td>\n",
       "      <td>-0.0001438868981619</td>\n",
       "    </tr>\n",
       "    <tr>\n",
       "      <th>2</th>\n",
       "      <td>-17.9933508474408228</td>\n",
       "      <td>-17.9933508481824376</td>\n",
       "    </tr>\n",
       "    <tr>\n",
       "      <th>3</th>\n",
       "      <td>-0.1185149457554676</td>\n",
       "      <td>-0.1185149345670802</td>\n",
       "    </tr>\n",
       "    <tr>\n",
       "      <th>4</th>\n",
       "      <td>55.0934311258083298</td>\n",
       "      <td>55.0934310385098840</td>\n",
       "    </tr>\n",
       "    <tr>\n",
       "      <th>5</th>\n",
       "      <td>-5.9507856045636869</td>\n",
       "      <td>-5.9507852041438811</td>\n",
       "    </tr>\n",
       "    <tr>\n",
       "      <th>6</th>\n",
       "      <td>-44.3932868788175483</td>\n",
       "      <td>-44.3932880303301971</td>\n",
       "    </tr>\n",
       "    <tr>\n",
       "      <th>7</th>\n",
       "      <td>-45.3474040562426666</td>\n",
       "      <td>-45.3474019208441206</td>\n",
       "    </tr>\n",
       "    <tr>\n",
       "      <th>8</th>\n",
       "      <td>106.5916940357666363</td>\n",
       "      <td>106.5916914843842846</td>\n",
       "    </tr>\n",
       "    <tr>\n",
       "      <th>9</th>\n",
       "      <td>-56.6056926064087023</td>\n",
       "      <td>-56.6056907094191999</td>\n",
       "    </tr>\n",
       "    <tr>\n",
       "      <th>10</th>\n",
       "      <td>7.6179961294152880</td>\n",
       "      <td>7.6179953310812563</td>\n",
       "    </tr>\n",
       "    <tr>\n",
       "      <th>11</th>\n",
       "      <td>1.0662278302210748</td>\n",
       "      <td>1.0662279754750210</td>\n",
       "    </tr>\n",
       "  </tbody>\n",
       "</table>\n",
       "</div>"
      ],
      "text/plain": [
       "               np.lstsq                  cgs\n",
       "i                                           \n",
       "0    1.0000003170422456   1.0000003170422123\n",
       "1   -0.0001438869171453  -0.0001438868981619\n",
       "2  -17.9933508474408228 -17.9933508481824376\n",
       "3   -0.1185149457554676  -0.1185149345670802\n",
       "4   55.0934311258083298  55.0934310385098840\n",
       "5   -5.9507856045636869  -5.9507852041438811\n",
       "6  -44.3932868788175483 -44.3932880303301971\n",
       "7  -45.3474040562426666 -45.3474019208441206\n",
       "8  106.5916940357666363 106.5916914843842846\n",
       "9  -56.6056926064087023 -56.6056907094191999\n",
       "10   7.6179961294152880   7.6179953310812563\n",
       "11   1.0662278302210748   1.0662279754750210"
      ]
     },
     "execution_count": 14,
     "metadata": {},
     "output_type": "execute_result"
    }
   ],
   "source": [
    "c_hat  # This table will go in your report.\n",
    "# c_hat.T  # This may be easier to look at.  Uncomment this line to see the transposed view."
   ]
  },
  {
   "cell_type": "markdown",
   "metadata": {
    "editable": false,
    "slideshow": {
     "slide_type": ""
    },
    "tags": []
   },
   "source": [
    "### 5b) Format results with LaTex.\n",
    "\n",
    "We've provided a `values_to_latex` function, which converts a `np.array` of floats to a Latex string that you can copy-paste into your report. Run this below, and copy-paste the output into your editor of choice.\n",
    "\n",
    "Identify which digits in each column you believe are correct and which digits are incorrect.  Digits may be incorrect due to one of\n",
    "* An unstable (direct) solver.\n",
    "* An ill-conditioned matrix.\n",
    "* Roundoff error.\n",
    "\n",
    "Wrap the questional digits in the LaTex `\\rd{ }` macro to turn those digits red.\n",
    "\n",
    "$\\def\\rd#1{\\textcolor{red}{#1}}$\n",
    "\n",
    "For example, if one of your values were $1.00123$ and you believe the final two digits to be suss, you would write `1.001\\rd{23}` to display $1.001\\rd{23}$.\n",
    "\n",
    "**Task:** Put the *annotated* table in the markdown cell below.  Make sure to **run the code cell *after* adding all the columns to `c_hat`**.\n",
    "\n",
    "**Note:** The command `\\rd{...}` is a latex **macro** [defined](http://www.emerson.emory.edu/services/latex/latex_19.html) in this cell.  If you want to use this in a `.tex` file, you can write `\\newcommand{rd}[1]{\\textcolor{red}{#1}}` in the [preamble](https://olivierpieters.be/blog/2016/08/10/latex-preamble).  We did something *slightly* different here, because jupyter notebooks don't have preambles. For those curious enough to double-click this cell, what you'll find is considered *bad practice*."
   ]
  },
  {
   "cell_type": "code",
   "execution_count": null,
   "metadata": {
    "editable": false,
    "slideshow": {
     "slide_type": ""
    },
    "tags": []
   },
   "outputs": [
    {
     "name": "stdout",
     "output_type": "stream",
     "text": [
      "\n",
      "$$\n",
      "\\scriptsize\n",
      "\\begin{array}{ |c|c| }\n",
      "\\hline\n",
      "\\mathrm{np.lstsq}\t& \\mathrm{cgs}\t\\\\\n",
      "\\hline\n",
      "+1.0000003170422456\t& +1.0000003170422123\t\\\\\n",
      "-0.0001438869171453\t& -0.0001438868981619\t\\\\\n",
      "-17.9933508474408228\t& -17.9933508481824376\t\\\\\n",
      "-0.1185149457554676\t& -0.1185149345670802\t\\\\\n",
      "+55.0934311258083298\t& +55.0934310385098840\t\\\\\n",
      "-5.9507856045636869\t& -5.9507852041438811\t\\\\\n",
      "-44.3932868788175483\t& -44.3932880303301971\t\\\\\n",
      "-45.3474040562426666\t& -45.3474019208441206\t\\\\\n",
      "+106.5916940357666363\t& +106.5916914843842846\t\\\\\n",
      "-56.6056926064087023\t& -56.6056907094191999\t\\\\\n",
      "+7.6179961294152880\t& +7.6179953310812563\t\\\\\n",
      "+1.0662278302210748\t& +1.0662279754750210\t\\\\\n",
      "\\hline\n",
      "\\end{array}\n",
      "$$\n",
      "\n"
     ]
    }
   ],
   "source": [
    "import textwrap\n",
    "\n",
    "def values_to_latex(df, fmt='{:+0.16f}'):\n",
    "    \"\"\"Converts a dataframe of floats to a latex string.\"\"\"\n",
    "    if isinstance(fmt, str):\n",
    "        fmt = fmt.format\n",
    "\n",
    "    schema = \"|\".join( \"c\" * len(df.columns) )\n",
    "    header = '\\t& '.join(\n",
    "        f'\\\\mathrm{{{algo}}}'\n",
    "        for algo in df.columns)\n",
    "    content = \"\\t\\\\\\\\\\n        \".join(\n",
    "        \"\\t& \".join(map(fmt, row))\n",
    "        for row in df.values)\n",
    "    return textwrap.dedent(f\"\"\"\n",
    "        $$\n",
    "        \\\\scriptsize\n",
    "        \\\\begin{{array}}{{ |{schema}| }}\n",
    "        \\\\hline\n",
    "        {header}\\t\\\\\\\\\n",
    "        \\\\hline\n",
    "        {content}\\t\\\\\\\\\n",
    "        \\\\hline\n",
    "        \\\\end{{array}}\n",
    "        $$\n",
    "        \"\"\")\n",
    "\n",
    "# Run this cell to generate an unstyled latex table.\n",
    "print(values_to_latex(c_hat))"
   ]
  },
  {
   "cell_type": "markdown",
   "metadata": {
    "editable": true,
    "slideshow": {
     "slide_type": ""
    },
    "tags": []
   },
   "source": [
    "$$\n",
    "\\text{Put your table here!} \\\\\n",
    "\\text{(double-click the cell to edit)}\n",
    "$$\n"
   ]
  },
  {
   "cell_type": "markdown",
   "metadata": {
    "editable": false,
    "slideshow": {
     "slide_type": ""
    },
    "tags": []
   },
   "source": [
    "### 5c) Comment and Analyze.\n",
    "\n",
    "In Professor Saito’s lecture notes referenced above, there are examples showing how stable or unstable the computation can be when you use each of these algorithms. Give a **thoughtful explanation** for what you observe with regards to the accuracy of **each of the six** algorithms that you used to compute the numerical solution of $A\\hat{c} = \\mathbf{y}$ in parts (4a-4f)."
   ]
  },
  {
   "cell_type": "markdown",
   "metadata": {
    "editable": true,
    "slideshow": {
     "slide_type": ""
    },
    "tags": []
   },
   "source": [
    "$$\n",
    "\\text{Put your writeup here!} \\\\\n",
    "\\text{(double-click the cell to edit)}\n",
    "$$"
   ]
  }
 ],
 "metadata": {
  "kernelspec": {
   "display_name": "Python 3 (ipykernel)",
   "language": "python",
   "name": "python3"
  },
  "language_info": {
   "codemirror_mode": {
    "name": "ipython",
    "version": 3
   },
   "file_extension": ".py",
   "mimetype": "text/x-python",
   "name": "python",
   "nbconvert_exporter": "python",
   "pygments_lexer": "ipython3",
   "version": "3.11.4"
  }
 },
 "nbformat": 4,
 "nbformat_minor": 4
}
