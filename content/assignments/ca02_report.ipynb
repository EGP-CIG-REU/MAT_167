{
 "cells": [
  {
   "cell_type": "markdown",
   "metadata": {},
   "source": [
    "# 1) Introduction and Motivation\n",
    "\n",
    "**Instructions:** Replace the prompts in each cell with your resposes.\n",
    "\n",
    "Make sure you address **all** of the following points.\n",
    "\n",
    "* What are the objectives of the exercise on which you are reporting?\n",
    "* Why is it important?\n",
    "* Briefly mention one or more conclusions.\n",
    "* Keep this part concise and to the point."
   ]
  },
  {
   "cell_type": "markdown",
   "metadata": {},
   "source": [
    "# 2) Problem Description\n",
    "\n",
    "Describe the problem that you solve in this assignment.\n",
    "\n",
    "In essence, this should be a **brief** summary of the instructions from \"Theory\" and \"Setup\" (where you generated your dataset and Vandermonde matrix).\n",
    "\n",
    "*Your summary should be significantly **less** detailed than the instructions!*   You're writing for an expert audience."
   ]
  },
  {
   "cell_type": "markdown",
   "metadata": {},
   "source": [
    "# 3) Results (Table)\n",
    "\n",
    "<!-- You'll want to keep this. -->\n",
    "$\\def\\rd#1{\\textcolor{red}{#1}}$\n",
    "\n",
    "$$\n",
    "\\text{Put your table here!} \\\\\n",
    "\\text{(double-click the cell to edit)}\n",
    "$$\n",
    "\n",
    "Briefly explain what the numbers (data) in each column of the table represent.\n",
    "\n",
    "**Note** If you have written the polynomial:\n",
    "\n",
    "$$\n",
    "p(x) = c_0x^0 + c_1x^1 + c_2x^2 + ... + c_{n-1}x^{n-1}\n",
    "\\tag{1}\n",
    "$$\n",
    "\n",
    "in the previous section, you can `\\tag` it and use [a markdown link](#mjx-eq-label1) to refer to it elsewhere.   Jupyter doesn't have great support for `\\label` or `\\eqref` (labels must be unique, so re-running the cell will cause issues)."
   ]
  },
  {
   "cell_type": "markdown",
   "metadata": {},
   "source": [
    "# 4) Analysis of the Results\n",
    "\n",
    "In **each** of the first six subsections, comment on and analyze the accuracy of the solution you obtained with the algorithm that you are discussing in that particular subsection.\n",
    "\n",
    "Compare your results to what you've seen in previous sections, and mention your thoughts on why each result may be better/worse than the others."
   ]
  },
  {
   "cell_type": "markdown",
   "metadata": {},
   "source": [
    "## 4.1) The Computation of $\\hat{c}_{\\mathrm{normal}}$\n",
    "\n",
    "Give a brief but thoughtful description and analysis of what you observe with regards to the accuracy of your results when you used `np.linalg.solve` to solve the normal equations.\n",
    "\n",
    "Contrast the quality of this solution with the one you obtained with `np.linalg.lstsq`.\n",
    "* What LAPACK method does [np.linalg.solve](https://numpy.org/doc/stable/reference/generated/numpy.linalg.lstsq.html#numpy.linalg.lstsq) use?\n",
    "* Although it's not documented, `np.linalg.lstsq` uses LAPACK's `gelsd` method internally.\n",
    "* What type of matrix-decomposition does each method rely on?  You can find this information in the [LAPACK documentation](https://www.netlib.org/lapack/explore-html/)'s search bar.\n"
   ]
  },
  {
   "cell_type": "markdown",
   "metadata": {},
   "source": [
    "## 4.2) The Computation of $\\hat{c}_{\\mathrm{cgs}}$\n",
    "Briefly describe what you observe with regards to the accuracy of your results when you used `classical_gram_schmidt` to solve the original Least Squares system.\n"
   ]
  },
  {
   "cell_type": "markdown",
   "metadata": {},
   "source": [
    "## 4.3) The Computation of $\\hat{c}_{\\mathrm{mgs}}$\n",
    "Briefly describe what you observe with regards to the accuracy of your results when you used `modified_gram_schmidt` to solve the original Least Squares system.\n"
   ]
  },
  {
   "cell_type": "markdown",
   "metadata": {},
   "source": [
    "## 4.4) The Computation of $\\hat{c}_{\\mathrm{qr}}$\n",
    "Briefly describe what you observe with regards to the accuracy of your results when you used `np.linalg.qr` to solve the original Least Squares system."
   ]
  },
  {
   "cell_type": "markdown",
   "metadata": {},
   "source": [
    "## 4.5) The Computation of $\\hat{c}_{\\mathrm{svd}}$\n",
    "Give a brief but thoughtful description of what you observe with regards to the accuracy of your results when you used `np.linalg.svd` to solve the original Least Squares system.\n",
    "\n",
    "If you have done some reading on the SVD, mention any thoughts concerning the (theoretical) reason the results are as they are. Otherwise state that you do not have the requisite background to discuss the theory underlying the SVD."
   ]
  },
  {
   "cell_type": "markdown",
   "metadata": {},
   "source": [
    "## 4.6) The Computation of $\\hat{c}_{\\mathrm{np.lstsq}}$\n",
    "Give a brief but thoughtful description of what you observe with regards to the accuracy of your results when you used `np.linalg.lstsq` to solve the original Least Squares system.\n",
    "\n",
    "Make sure you contrast the quality of this solution with all of the solutions you discussed in the previous sections."
   ]
  },
  {
   "cell_type": "markdown",
   "metadata": {},
   "source": [
    "## 4.7) Warning Message(s)\n",
    "One more thing!  Try removing `rcond=-1` from your call to `np.linalg.lstsq`, and try to describe what the warning message says.  How would you expect setting `rcond=None` to affect the accuracy of your result?"
   ]
  },
  {
   "cell_type": "markdown",
   "metadata": {},
   "source": [
    "# Summary and Conclusions\n",
    "\n",
    "It is OK - and in fact it is generally good writing - to summarize your work by pulling one or two sentences from each Section and Subsection. The sentences you choose can be ones you used to summarize what you described in that particular subsection."
   ]
  }
 ],
 "metadata": {
  "language_info": {
   "name": "python"
  }
 },
 "nbformat": 4,
 "nbformat_minor": 2
}
